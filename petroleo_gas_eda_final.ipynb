{
  "nbformat": 4,
  "nbformat_minor": 0,
  "metadata": {
    "colab": {
      "private_outputs": true,
      "provenance": [],
      "include_colab_link": true
    },
    "kernelspec": {
      "name": "python3",
      "display_name": "Python 3"
    },
    "language_info": {
      "name": "python"
    }
  },
  "cells": [
    {
      "cell_type": "markdown",
      "metadata": {
        "id": "view-in-github",
        "colab_type": "text"
      },
      "source": [
        "<a href=\"https://colab.research.google.com/github/zairaamatori/data_driven_insights/blob/main/petroleo_gas_eda_final.ipynb\" target=\"_parent\"><img src=\"https://colab.research.google.com/assets/colab-badge.svg\" alt=\"Open In Colab\"/></a>"
      ]
    },
    {
      "cell_type": "markdown",
      "source": [
        "# Ingestão de Dados(integração com a tabela do bigquery)"
      ],
      "metadata": {
        "id": "1jq0I3j2Vh3N"
      }
    },
    {
      "cell_type": "code",
      "execution_count": null,
      "metadata": {
        "id": "5a75cxYJR87O"
      },
      "outputs": [],
      "source": [
        "!pip install --upgrade google-cloud-bigquery  # instalando a biblioteca do bigquery\n"
      ]
    },
    {
      "cell_type": "code",
      "source": [
        "# autenticação de usuário\n",
        "from google.colab import auth\n",
        "auth.authenticate_user()"
      ],
      "metadata": {
        "id": "lNuiLu_dUT09"
      },
      "execution_count": null,
      "outputs": []
    },
    {
      "cell_type": "code",
      "source": [
        "# importando a biblioteca do bigquery\n",
        "from google.cloud import bigquery\n",
        "\n",
        "# importando as bibliotecas do python\n",
        "import seaborn as sns\n",
        "import pandas as pd\n",
        "import numpy as np\n",
        "import matplotlib.pyplot as plt\n",
        "\n",
        "idProjeto = \"t1engenhariadados\" # id do projeto no bigquery\n",
        "\n",
        "cliente = bigquery.Client(project = idProjeto) # criando um cliente que chama o projeto que contém a tabela do bigquery"
      ],
      "metadata": {
        "id": "NsBs43JNWHUe"
      },
      "execution_count": null,
      "outputs": []
    },
    {
      "cell_type": "code",
      "source": [
        "# Criando uma query que seleciona toda as linhas e colunas da tabela do bigquery, criando e lendo um dataframe\n",
        "query = \"\"\"\n",
        "\n",
        "SELECT * FROM `t1engenhariadados.projeto_final_3_3.petroleo_gas`;\n",
        "\n",
        "\"\"\"\n",
        "\n",
        "resultado = cliente.query(query)\n",
        "df = resultado.to_dataframe()\n",
        "df.head()\n"
      ],
      "metadata": {
        "id": "JPy4PF9XYZ0w"
      },
      "execution_count": null,
      "outputs": []
    },
    {
      "cell_type": "code",
      "source": [
        "# Verifica a quantidade de linhas e colunas e imprime\n",
        "df.shape\n",
        "linhas, colunas = df.shape[0] , df.shape[1]\n",
        "print(f'Linhas - {linhas}')\n",
        "print(f'Colunas - {colunas}')"
      ],
      "metadata": {
        "id": "Gi9opD0dW7fV"
      },
      "execution_count": null,
      "outputs": []
    },
    {
      "cell_type": "code",
      "source": [
        "# Conta  e mostra o número de linhas duplicadas (se houver)\n",
        "df.duplicated().sum()\n",
        "df[df.duplicated()]"
      ],
      "metadata": {
        "id": "VF96QGbzwMDx"
      },
      "execution_count": null,
      "outputs": []
    },
    {
      "cell_type": "code",
      "source": [
        "# Converter col 'Production Date' para o formato de data (datetime),\n",
        "# permitindo extrair info como ano, mês, etc.\n",
        "df['Production Date'] = pd.to_datetime(df['Production Date'])\n",
        "# Criar uma coluna 'Ano' e 'Mes' para facilitar o agrupamento por períodos determinados de tempo\n",
        "df['Ano'] = df['Production Date'].dt.year\n",
        "df['Mes'] = df['Production Date'].dt.month"
      ],
      "metadata": {
        "id": "92ahjVDL80IV"
      },
      "execution_count": null,
      "outputs": []
    },
    {
      "cell_type": "markdown",
      "source": [
        "Criação de coluna padronizada de volume"
      ],
      "metadata": {
        "id": "ktulYPKijp4A"
      }
    },
    {
      "cell_type": "code",
      "source": [
        "df['VolumeBOE'] = np.where(df['Commodity'] == 'Oil (bbl)', df['Volume'], df['Volume'] / 6)\n",
        "# formatação sem exponencial\n",
        "pd.options.display.float_format = '{:.2f}'.format"
      ],
      "metadata": {
        "id": "BarJf0ryXSNy"
      },
      "execution_count": null,
      "outputs": []
    },
    {
      "cell_type": "markdown",
      "source": [
        "Classificando volume produzido e volume de residuos enviados"
      ],
      "metadata": {
        "id": "FF19wOxyVYfS"
      }
    },
    {
      "cell_type": "code",
      "source": [
        "# criando nova coluna para classificação de volume\n",
        "df['Tipo'] = np.where(df['Volume']>0, 'Produzido', 'Residuo')\n"
      ],
      "metadata": {
        "id": "dBvpPj53K85j"
      },
      "execution_count": null,
      "outputs": []
    },
    {
      "cell_type": "code",
      "source": [
        "# Criar colunas separadas por commodity\n",
        "df['VolumeGas'] = np.where(df['Commodity'] == 'Gas (Mcf)', df['VolumeBOE'],0)\n",
        "df['VolumeOil'] = np.where(df['Commodity'] == 'Oil (bbl)', df['VolumeBOE'],0)\n"
      ],
      "metadata": {
        "id": "Hu9EaA8pkrbz"
      },
      "execution_count": null,
      "outputs": []
    },
    {
      "cell_type": "code",
      "source": [
        "# Criar colunas separadas por Tipo\n",
        "df['Volume_Produzido'] = np.where(df['Tipo'] == 'Produzido', df['VolumeBOE'],0)\n",
        "df['Volume_Residuo'] = np.where(df['Tipo'] == 'Residuo', df['VolumeBOE'],0)\n"
      ],
      "metadata": {
        "id": "qbNF4WLL0qI2"
      },
      "execution_count": null,
      "outputs": []
    },
    {
      "cell_type": "code",
      "source": [
        "# Criar colunas separadas por Tipo (Produzido / Resíduo)\n",
        "df['VolumeGas_Produzido'] = np.where(['Volume_Produzido'] & (df['VolumeGas'].notna()),df['VolumeGas'],0)\n",
        "df['VolumeGas_Residuo'] = np.where(['Volume_Residuo'] & (df['VolumeGas'].notna()),df['VolumeGas'],0)\n",
        "df['VolumeOil_Produzido'] = np.where(['Volume_Produzido'] & (df['VolumeOil'].notna()),df['VolumeOil'],0)\n",
        "df['VolumeOil_Residuo'] = np.where(['Volume_Residuo'] & (df['VolumeOil'].notna()),df['VolumeOil'],0)\n"
      ],
      "metadata": {
        "id": "djYlu6yKsARU"
      },
      "execution_count": null,
      "outputs": []
    },
    {
      "cell_type": "code",
      "source": [
        "# Visualização inicial dos dados\n",
        "df.info()\n",
        "df[['VolumeGas_Produzido', 'VolumeGas_Residuo', 'VolumeOil_Produzido', 'VolumeOil_Residuo', 'Volume_Produzido', 'Volume_Residuo']].describe()"
      ],
      "metadata": {
        "id": "4JKwKRb1wFJn"
      },
      "execution_count": null,
      "outputs": []
    },
    {
      "cell_type": "code",
      "source": [
        "# Mostra a contagem de valores =0 por coluna\n",
        "print((df == 0).sum())"
      ],
      "metadata": {
        "id": "yMQGSx38wIjL"
      },
      "execution_count": null,
      "outputs": []
    },
    {
      "cell_type": "code",
      "source": [
        "#Contagens de zeros por colunas por Ano\n",
        "contagem_por_ano = (df[['VolumeGas_Produzido',\n",
        "                       'VolumeGas_Residuo', 'VolumeOil_Produzido', 'VolumeOil_Residuo', 'VolumeBOE']] == 0).groupby(df['Ano']).sum()\n",
        "print(contagem_por_ano)"
      ],
      "metadata": {
        "id": "Yn_ol_0u7iU4"
      },
      "execution_count": null,
      "outputs": []
    },
    {
      "cell_type": "code",
      "source": [
        "\n",
        "estatisticas_com_filtro_total = df[df['Volume'] != 0][['VolumeGas_Produzido', 'VolumeGas_Residuo','VolumeOil_Produzido', 'VolumeOil_Residuo', 'Volume_Produzido', 'Volume_Residuo']].describe()\n",
        "\n",
        "print(estatisticas_com_filtro_total)"
      ],
      "metadata": {
        "id": "7tEC86Rf_qLv"
      },
      "execution_count": null,
      "outputs": []
    },
    {
      "cell_type": "code",
      "source": [
        "# Mostra os valores únicos em determinada dimensão\n",
        "df[df.isnull().any(axis=1)]"
      ],
      "metadata": {
        "id": "fgkNWZ0feugw"
      },
      "execution_count": null,
      "outputs": []
    },
    {
      "cell_type": "markdown",
      "source": [
        "EXPLORAÇÃO"
      ],
      "metadata": {
        "id": "3nA_1nLLJizb"
      }
    },
    {
      "cell_type": "markdown",
      "source": [
        "Disposition Description por Tipo"
      ],
      "metadata": {
        "id": "xPu1eYf9hHeU"
      }
    },
    {
      "cell_type": "code",
      "source": [
        " # O groupby agora é feito apenas pela descrição\n",
        "aggregated_df = df.groupby(['Disposition Description']).agg({\n",
        "    'Volume_Produzido': 'sum',\n",
        "    'Volume_Residuo': 'sum'\n",
        "}).reset_index().sort_values(\n",
        "    by=['Volume_Produzido', 'Volume_Residuo'],\n",
        "    ascending=[False, True]\n",
        ")\n",
        "\n",
        "print(\"Dados agregados e ordenados que serão plotados:\")\n",
        "print(aggregated_df)\n",
        "\n",
        "\n"
      ],
      "metadata": {
        "id": "EITdwB2sEphr"
      },
      "execution_count": null,
      "outputs": []
    },
    {
      "cell_type": "code",
      "source": [
        "# ============================================================================\n",
        "# 10. TOP 10 TIPOS DE DISPOSIÇÃO\n",
        "# ============================================================================\n",
        "\n",
        "\n",
        "disposicao = df.groupby('Disposition Description').agg({\n",
        "    'Volume_Produzido': 'sum',\n",
        "    'Volume_Residuo': lambda x: abs(x.sum())\n",
        "}).reset_index()\n",
        "\n",
        "disposicao['Volume_Total'] = disposicao['Volume_Produzido'] + disposicao['Volume_Residuo']\n",
        "disposicao = disposicao.sort_values('Volume_Total', ascending=True).tail(10)\n",
        "\n",
        "fig, ax = plt.subplots(figsize=(12, 8))\n",
        "bars = ax.barh(range(len(disposicao)), disposicao['Volume_Total'],\n",
        "               color='#9B59B6', alpha=0.8, edgecolor='black')\n",
        "\n",
        "ax.set_yticks(range(len(disposicao)))\n",
        "ax.set_yticklabels(disposicao['Disposition Description'], fontsize=9)\n",
        "ax.set_xlabel('Volume Total (BOE)', fontsize=12)\n",
        "ax.set_title('Top 10 Tipos de Disposição por Volume', fontsize=14, fontweight='bold')\n",
        "ax.xaxis.set_major_formatter(plt.FuncFormatter(lambda x, p: f'{x/1e9:.1f}B'))\n",
        "ax.grid(True, alpha=0.3, axis='x')\n",
        "\n",
        "plt.tight_layout()\n",
        "plt.savefig('10_top10_disposicao.png', dpi=300, bbox_inches='tight')"
      ],
      "metadata": {
        "id": "UxlphF1FsmLn"
      },
      "execution_count": null,
      "outputs": []
    },
    {
      "cell_type": "code",
      "source": [
        "print('--- Volume por tipo ---')\n",
        "print(f\"Volume Total Produzido: {df['Volume_Produzido'].sum()}\")\n",
        "print(f\"Volume Total de Resíduo: {df['Volume_Residuo'].sum()}\")\n",
        "\n",
        "# Gráfico\n",
        "\n",
        "labels = ['Volume Produzido', 'Volume Resíduo']\n",
        "valores = [df['Volume_Produzido'].sum(),df['Volume_Residuo'].sum()]\n",
        "cores = ['#4A90E2', '#E2725B'] # Azul para produzido, Laranja/Salmão para resíduo\n",
        "\n",
        "#Cria o gráfico de barras\n",
        "plt.figure(figsize=(16, 8)) # Define o tamanho da figura (opcional)\n",
        "barras = plt.bar(labels, valores, color=cores)\n",
        "\n",
        "# Adiciona títulos e rótulos\n",
        "plt.ylabel('Volume')\n",
        "plt.title('Comparativo entre Volume Produzido e Volume de Resíduo')\n",
        "\n",
        "# 6. Exibe o gráfico\n",
        "plt.show()\n"
      ],
      "metadata": {
        "id": "nKQ7CaTh6mRE"
      },
      "execution_count": null,
      "outputs": []
    },
    {
      "cell_type": "code",
      "source": [
        "# --- Volume por Classificação ---\n",
        "vol_oil_prod = df['VolumeOil_Produzido'].sum()\n",
        "vol_oil_res = df['VolumeOil_Residuo'].sum()\n",
        "vol_gas_prod = df['VolumeGas_Produzido'].sum()\n",
        "vol_gas_res = df['VolumeGas_Residuo'].sum()\n",
        "\n",
        "print('--- Volume por Classificação ---')\n",
        "print(f\"Volume de Óleo Produzido: {vol_oil_prod}\")\n",
        "print(f\"Volume de Óleo Resíduo: {vol_oil_res}\")\n",
        "print(f\"Volume de Gás Produzido: {vol_gas_prod}\")\n",
        "print(f\"Volume de Gás Resíduo: {vol_gas_res}\")\n",
        "\n",
        "\n",
        "# Gráfico\n",
        "labels = ['Óleo Produzido', 'Óleo Resíduo', 'Gás Produzido', 'Gás Resíduo']\n",
        "valores = [vol_oil_prod, vol_oil_res, vol_gas_prod, vol_gas_res]\n",
        "# Usando azul para produção e laranja/vermelho para resíduo\n",
        "cores = ['#0d47a1', '#64b5f6', '#0039cb', '#90caf9']\n",
        "\n",
        "# Cria o gráfico de barras\n",
        "plt.figure(figsize=(16, 8))\n",
        "barras = plt.bar(labels, valores, color=cores)\n",
        "\n",
        "# Adiciona títulos e rótulos\n",
        "plt.ylabel('Volume')\n",
        "plt.title('Volume por Tipo e Categoria (Óleo e Gás)')\n",
        "\n",
        "# Melhora a legibilidade dos rótulos do eixo x se forem longos\n",
        "plt.xticks(rotation=15, ha=\"right\")\n",
        "plt.tight_layout() # Ajusta o gráfico para caber tudo\n",
        "\n",
        "# Exibe o gráfico\n",
        "plt.savefig('classificacao_volume.png')\n",
        "\n",
        "\n"
      ],
      "metadata": {
        "id": "znMHGM2oaTG3"
      },
      "execution_count": null,
      "outputs": []
    },
    {
      "cell_type": "markdown",
      "source": [
        "Análise Disposition Description"
      ],
      "metadata": {
        "id": "o1CG2FEtdmaC"
      }
    },
    {
      "cell_type": "code",
      "source": [
        "print(df['Disposition Description'].value_counts())"
      ],
      "metadata": {
        "id": "h546Pk3Mdlo0"
      },
      "execution_count": null,
      "outputs": []
    },
    {
      "cell_type": "markdown",
      "source": [
        "**Análise Classes de Terreno**"
      ],
      "metadata": {
        "id": "NGo7hyz8C0_r"
      }
    },
    {
      "cell_type": "code",
      "source": [
        "# Contagem exata de cada classe\n",
        "print(\"--- Contagem Absoluta ---\")\n",
        "print(df['Land Class'].value_counts())\n",
        "\n",
        "print(\"\\n--- Porcentagem do Total ---\")\n",
        "# Mostra a proporção de cada classe (normalizado)\n",
        "print(df['Land Class'].value_counts(normalize=True) * 100)"
      ],
      "metadata": {
        "id": "3ejBn8O6BR56"
      },
      "execution_count": null,
      "outputs": []
    },
    {
      "cell_type": "code",
      "source": [
        "df['Land Class'].value_counts().plot(kind='bar',figsize =(16, 8))\n",
        "plt.yticks(fontsize=10)\n",
        "plt.xticks(fontsize=10, rotation=45, ha='right')\n",
        "plt.title('Distribuição de Classes de Solo', fontsize=12)\n",
        "plt.xlabel('Classe de Solo', fontsize=12)\n",
        "plt.ylabel('Frequência', fontsize=12)\n",
        "plt.tight_layout()\n",
        "plt.show()\n"
      ],
      "metadata": {
        "id": "WlSw_FMY7O2c"
      },
      "execution_count": null,
      "outputs": []
    },
    {
      "cell_type": "markdown",
      "source": [
        "existem 3 tipos de classes de terrenos:\n",
        "Federal, Mixed Exploratory e Native American"
      ],
      "metadata": {
        "id": "NwEqQmw6HYSI"
      }
    },
    {
      "cell_type": "markdown",
      "source": [
        "**Análise Classes de Terreno**"
      ],
      "metadata": {
        "id": "MVsE9S2UJGP2"
      }
    },
    {
      "cell_type": "code",
      "source": [
        "# Contagem exata de cada classe\n",
        "print(\"--- Contagem Absoluta ---\")\n",
        "print(df['Land Category'].value_counts())\n",
        "\n",
        "print(\"\\n--- Porcentagem do Total ---\")\n",
        "# Mostra a proporção de cada classe (normalizado)\n",
        "print(df['Land Category'].value_counts(normalize=True) * 100)"
      ],
      "metadata": {
        "id": "fw_evqQOImLu"
      },
      "execution_count": null,
      "outputs": []
    },
    {
      "cell_type": "code",
      "source": [
        "offshore_onshore = df.groupby(['Land Category', 'Commodity'])['Volume_Produzido'].sum().reset_index()\n",
        "offshore_pivot = offshore_onshore.pivot(index='Land Category', columns='Commodity', values='Volume_Produzido')\n",
        "\n",
        "fig, ax = plt.subplots(figsize=(10, 6))\n",
        "offshore_pivot.plot(kind='bar', ax=ax, color=['#FF6B6B', '#4ECDC4'], alpha=0.8, edgecolor='black', width=0.7)\n",
        "ax.set_xlabel('Categoria de Terreno', fontsize=12)\n",
        "ax.set_ylabel('Volume Produzido (BOE)', fontsize=12)\n",
        "ax.set_title('Produção Offshore vs Onshore por Commodity', fontsize=14, fontweight='bold')\n",
        "ax.legend(title='Commodity', fontsize=10)\n",
        "ax.set_xticklabels(ax.get_xticklabels(), rotation=0)\n",
        "ax.yaxis.set_major_formatter(plt.FuncFormatter(lambda x, p: f'{x/1e9:.1f}B'))\n",
        "ax.grid(True, alpha=0.3, axis='y')\n",
        "\n",
        "plt.tight_layout()\n",
        "plt.savefig('05_offshore_onshore.png', dpi=300, bbox_inches='tight')"
      ],
      "metadata": {
        "id": "mo1KNOUFra1i"
      },
      "execution_count": null,
      "outputs": []
    },
    {
      "cell_type": "markdown",
      "source": [
        "Análise referente as regiões marítimas onde ocorre produção de recursos"
      ],
      "metadata": {
        "id": "emAPYJyJDl_Q"
      }
    },
    {
      "cell_type": "code",
      "source": [
        "# Contagem exata de cada classe\n",
        "print(\"--- Contagem Absoluta ---\")\n",
        "print(df['Offshore Region'].value_counts())\n",
        "\n",
        "print(\"\\n--- Porcentagem do Total ---\")\n",
        "# Mostra a proporção de cada classe (normalizado)\n",
        "print(df['Offshore Region'].value_counts(normalize=True) * 100)"
      ],
      "metadata": {
        "id": "kjUbD7wZDAn3"
      },
      "execution_count": null,
      "outputs": []
    },
    {
      "cell_type": "markdown",
      "source": [
        "Estados e Condados"
      ],
      "metadata": {
        "id": "6_moF7ISJXGx"
      }
    },
    {
      "cell_type": "code",
      "source": [
        "df['State'].nunique()\n",
        "df['State'].value_counts()"
      ],
      "metadata": {
        "id": "6r9NYqQrJWzF"
      },
      "execution_count": null,
      "outputs": []
    },
    {
      "cell_type": "code",
      "source": [
        "df['County'].nunique()\n",
        "df['County'].value_counts()"
      ],
      "metadata": {
        "id": "iay6TyZ5KAUU"
      },
      "execution_count": null,
      "outputs": []
    },
    {
      "cell_type": "markdown",
      "source": [
        "Recursos extraídos"
      ],
      "metadata": {
        "id": "nYVNZ72MD4en"
      }
    },
    {
      "cell_type": "code",
      "source": [
        "# Contagem exata de cada classe\n",
        "print(\"--- Contagem Absoluta ---\")\n",
        "quant = df['Commodity'].value_counts()\n",
        "print(quant)\n",
        "\n",
        "print(\"\\n--- Porcentagem do Total ---\")\n",
        "# Mostra a proporção de cada classe (normalizado)\n",
        "porcen = df['Commodity'].value_counts(normalize=True) * 100\n",
        "print(porcen)"
      ],
      "metadata": {
        "id": "3bp7t0bcG6Ng"
      },
      "execution_count": null,
      "outputs": []
    },
    {
      "cell_type": "markdown",
      "source": [
        "A produção de gás e óleo foi distribuída de forma igualitária, tendo sido metade de óleo e metade de gás."
      ],
      "metadata": {
        "id": "Tgxx2mwh3SrQ"
      }
    },
    {
      "cell_type": "code",
      "source": [
        "analise_ocorrencias = df.groupby(['Ano', 'Commodity']).size()\n",
        "print(analise_ocorrencias)"
      ],
      "metadata": {
        "id": "NNp-nWoILSGx"
      },
      "execution_count": null,
      "outputs": []
    },
    {
      "cell_type": "code",
      "source": [
        "analise_volume = df.groupby(['Ano', 'Commodity'])['Volume_Produzido'].sum()\n",
        "print(analise_volume)\n",
        "# soma as quantidades"
      ],
      "metadata": {
        "id": "lvbD5ez74ikq"
      },
      "execution_count": null,
      "outputs": []
    },
    {
      "cell_type": "markdown",
      "source": [
        "Foi produzido 39.969.934.160 mais de gás do que de óleo."
      ],
      "metadata": {
        "id": "_Rfm7XrV4BYC"
      }
    },
    {
      "cell_type": "code",
      "source": [
        "analise_volume.unstack().plot(kind='bar', figsize=(16, 8), color=['#03045e', '#00b4d8'])\n",
        "plt.xlabel('Ano',fontsize=10)\n",
        "plt.yticks(fontsize=10 )\n",
        "plt.xticks(fontsize=10)\n",
        "plt.ylabel('Volume Produzido ',fontsize=10)\n",
        "plt.title('Produção de Recursos Anual',fontsize=10)"
      ],
      "metadata": {
        "id": "KlCKGVWAMB7R"
      },
      "execution_count": null,
      "outputs": []
    },
    {
      "cell_type": "markdown",
      "source": [
        "Quantidade de recursos produzida por mês"
      ],
      "metadata": {
        "id": "X92Xi0ASO6OD"
      }
    },
    {
      "cell_type": "code",
      "source": [
        "# Lista com os nomes dos meses\n",
        "nomes_meses = ['Jan', 'Fev', 'Mar', 'Abr', 'Mai', 'Jun', 'Jul', 'Ago', 'Set', 'Out', 'Nov', 'Dez']\n",
        "\n",
        "# Agrupamento por mês\n",
        "dados_grafico = df.groupby('Mes')['Volume_Produzido'].sum().sort_index()\n",
        "\n",
        "# Gráfico\n",
        "plt.figure(figsize=(16, 8))\n",
        "plt.plot(dados_grafico.index, dados_grafico.values, marker='o')\n",
        "plt.xticks(ticks=range(1, 13), labels=nomes_meses, fontsize=12)\n",
        "plt.xlabel('Mês', fontsize=12)\n",
        "plt.ylabel('Volume Produzido', fontsize=12)\n",
        "plt.title('Quantidade Produzida por Mês', fontsize=12)\n",
        "plt.yticks(fontsize=12)\n",
        "plt.grid(False)\n",
        "plt.tight_layout()\n",
        "plt.show()\n"
      ],
      "metadata": {
        "id": "hnMnRnuAOe-z"
      },
      "execution_count": null,
      "outputs": []
    },
    {
      "cell_type": "markdown",
      "source": [
        "Perfil de produção para cada Classe territorial\n"
      ],
      "metadata": {
        "id": "MJFg5v8RUQ8p"
      }
    },
    {
      "cell_type": "code",
      "source": [
        "analise = df.groupby(['Land Class', 'Commodity'])['Volume_Produzido'].sum()\n",
        "print(analise)"
      ],
      "metadata": {
        "id": "RuIHR5snWcDX"
      },
      "execution_count": null,
      "outputs": []
    },
    {
      "cell_type": "code",
      "source": [
        "analise.sort_values(ascending=False).unstack().plot(kind='barh', figsize=(16, 8), color=['#0077b6', '#00b4d8'])\n",
        "plt.yticks(fontsize=10 )\n",
        "plt.xticks(fontsize=10)\n",
        "plt.xlabel('Classe de Solo', fontsize=12)\n",
        "plt.ylabel('Volume Produzido', fontsize=12)\n",
        "plt.title('Perfil de Produção por Classe de Solo', fontsize=12)\n"
      ],
      "metadata": {
        "id": "FQ8Gvk2hW7gv"
      },
      "execution_count": null,
      "outputs": []
    },
    {
      "cell_type": "markdown",
      "source": [
        "Produção entre condados e estados"
      ],
      "metadata": {
        "id": "cz6ejrpgXIW0"
      }
    },
    {
      "cell_type": "code",
      "source": [
        "on_off = df.groupby(['State', 'County'])['Volume'].sum()\n",
        "print(on_off)"
      ],
      "metadata": {
        "id": "IRQhhDbCXMIG"
      },
      "execution_count": null,
      "outputs": []
    },
    {
      "cell_type": "code",
      "source": [
        "df.groupby(['Commodity', 'State', 'Ano'])['Volume'].sum()"
      ],
      "metadata": {
        "id": "e4EpRs2MYpG-"
      },
      "execution_count": null,
      "outputs": []
    },
    {
      "cell_type": "markdown",
      "source": [
        "Ano e Estado com maior produção de Gas"
      ],
      "metadata": {
        "id": "MJfbNy3NdqCt"
      }
    },
    {
      "cell_type": "code",
      "source": [
        "df_gas = df[df['Commodity'] == 'Gas (Mcf)']\n",
        "gas_production = df.groupby(['Ano', 'State'])['VolumeGas_Produzido'].sum().reset_index()\n",
        "max_gas_production = gas_production.loc[gas_production['VolumeGas_Produzido'].idxmax()]\n",
        "print(max_gas_production)\n"
      ],
      "metadata": {
        "id": "MMItld5Vb5YP"
      },
      "execution_count": null,
      "outputs": []
    },
    {
      "cell_type": "markdown",
      "source": [
        "Ano e Estado com Maior produção de Oléo"
      ],
      "metadata": {
        "id": "icPrcePpdy9k"
      }
    },
    {
      "cell_type": "code",
      "source": [
        "oil_production = df.groupby(['Ano', 'State'])['VolumeOil_Produzido'].sum().reset_index()\n",
        "max_oil_production = oil_production.loc[oil_production['VolumeOil_Produzido'].idxmax()]\n",
        "print(max_oil_production)"
      ],
      "metadata": {
        "id": "bWGxWNbVdxvE"
      },
      "execution_count": null,
      "outputs": []
    },
    {
      "cell_type": "markdown",
      "source": [
        "Ano e Estado com menor produção de Oléo"
      ],
      "metadata": {
        "id": "RabDRgA_eTON"
      }
    },
    {
      "cell_type": "code",
      "source": [
        "oil_production = df.groupby(['Ano', 'State'])['VolumeOil_Produzido'].sum().reset_index()\n",
        "min_oil_production = oil_production.loc[oil_production['VolumeOil_Produzido'].idxmin()]\n",
        "print(min_oil_production)"
      ],
      "metadata": {
        "id": "fq7kCirXeTn7"
      },
      "execution_count": null,
      "outputs": []
    },
    {
      "cell_type": "markdown",
      "source": [
        "Participação percentual de cada commodity na produção total de cada ano"
      ],
      "metadata": {
        "id": "yYLKjlOUfQ1r"
      }
    },
    {
      "cell_type": "code",
      "source": [
        "# Agrupar por Ano e Commodity e somar os volumes\n",
        "# Isso cria um novo DataFrame com o volume total para cada commodity em cada ano.\n",
        "comm_ano = df.groupby(['Ano', 'Commodity'])['Volume_Produzido'].sum().reset_index()\n",
        "\n",
        "# Passo 2: Calcular o volume total para cada ano (agora no DataFrame agregado)\n",
        "comm_ano['total_volume_ano'] = comm_ano.groupby('Ano')['Volume_Produzido'].transform('sum')\n",
        "\n",
        "# Passo 3: Calcular a participação percentual correta\n",
        "comm_ano['percentual'] = (comm_ano['Volume_Produzido'] / comm_ano['total_volume_ano']) * 100\n",
        "\n",
        "# Passo 4: Formatar e limpar para o resultado final\n",
        "comm_ano['percentual'] = comm_ano['percentual'].map('{:.2f}%'.format)\n",
        "comm_ano = comm_ano.drop(columns=['total_volume_ano'])\n",
        "\n",
        "# Exibe o DataFrame final com o insight correto\n",
        "print(\"Participação Percentual TOTAL de Cada Commodity por Ano:\")\n",
        "print(comm_ano)"
      ],
      "metadata": {
        "id": "KILTIMo1fN68"
      },
      "execution_count": null,
      "outputs": []
    },
    {
      "cell_type": "code",
      "source": [
        "# Agrupar por ano e somar os volumes produzidos\n",
        "producao_anual = df.groupby('Ano')[['VolumeGas_Produzido', 'VolumeOil_Produzido']].sum()\n",
        "\n",
        "# --- Passo 3: Geração do Gráfico ---\n",
        "\n",
        "# Configurações do gráfico\n",
        "anos = producao_anual.index\n",
        "gas_volume = producao_anual['VolumeGas_Produzido']\n",
        "oil_volume = producao_anual['VolumeOil_Produzido']\n",
        "\n",
        "x = np.arange(len(anos))  # Posições dos anos no eixo X\n",
        "width = 0.4  # Largura das barras\n",
        "\n",
        "# Criar a figura e os eixos\n",
        "fig, ax = plt.subplots(figsize=(16, 8))\n",
        "\n",
        "# Plotar as barras de Gás e Óleo\n",
        "rects1 = ax.bar(x - width/2, gas_volume, width, label='Gas (Mcf)', color='#45c4b8', edgecolor='black')\n",
        "rects2 = ax.bar(x + width/2, oil_volume, width, label='Oil (bbl)', color='#ff8c8c', edgecolor='black')\n",
        "\n",
        "# Adicionar títulos e rótulos\n",
        "ax.set_title('Comparação de Produção: Gás vs Óleo (2015-2025)', fontsize=18)\n",
        "ax.set_xlabel('Ano', fontsize=14)\n",
        "ax.set_ylabel('Volume Produzido (BOE)', fontsize=14)\n",
        "\n",
        "# Configurar os ticks do eixo X\n",
        "ax.set_xticks(x)\n",
        "ax.set_xticklabels(anos)\n",
        "ax.tick_params(axis='x', labelsize=12)\n",
        "ax.tick_params(axis='y', labelsize=12)\n",
        "\n",
        "\n",
        "\n",
        "# Adicionar legenda e grade de fundo\n",
        "ax.legend(fontsize=12)\n",
        "ax.grid(True, which='major', axis='y', linestyle='-', linewidth=0.5, color='gray', alpha=0.3)\n",
        "ax.set_axisbelow(True) # Coloca a grade atrás das barras\n",
        "\n",
        "# Otimizar layout para evitar sobreposição\n",
        "fig.tight_layout()\n",
        "\n",
        "# Mostrar o gráfico\n",
        "plt.show()\n",
        "\n",
        "print(\"\\nGráfico gerado com sucesso!\")"
      ],
      "metadata": {
        "id": "88Vf_t7mktQ7"
      },
      "execution_count": null,
      "outputs": []
    },
    {
      "cell_type": "markdown",
      "source": [
        "Taxa de Desperdicio"
      ],
      "metadata": {
        "id": "2_oOu4NEqGgB"
      }
    },
    {
      "cell_type": "code",
      "source": [
        "#Taxa de desperdício\n",
        "print(\"3. Gerando gráfico de taxa de desperdício...\")\n",
        "\n",
        "eficiencia_temporal = df.groupby('Ano').agg({\n",
        "    'Volume_Produzido': 'sum',\n",
        "    'Volume_Residuo': lambda x: abs(x.sum())\n",
        "}).reset_index()\n",
        "\n",
        "eficiencia_temporal['Taxa_Desperdicio'] = (\n",
        "    eficiencia_temporal['Volume_Residuo'] /\n",
        "    (eficiencia_temporal['Volume_Produzido'] + eficiencia_temporal['Volume_Residuo'])\n",
        ") * 100\n",
        "\n",
        "fig, ax = plt.subplots(figsize=(12, 6))\n",
        "bars = ax.bar(eficiencia_temporal['Ano'], eficiencia_temporal['Taxa_Desperdicio'],\n",
        "               color='#E74C3C', alpha=0.7, edgecolor='black')\n",
        "\n",
        "# Adicionar valores nas barras\n",
        "for bar in bars:\n",
        "    height = bar.get_height()\n",
        "    ax.text(bar.get_x() + bar.get_width()/2., height,\n",
        "            f'{height:.2f}%', ha='center', va='bottom', fontsize=9)\n",
        "\n",
        "ax.set_xlabel('Ano', fontsize=12)\n",
        "ax.set_ylabel('Taxa de Desperdício (%)', fontsize=12)\n",
        "ax.set_title('Evolução da Taxa de Desperdício (2015-2025)', fontsize=14, fontweight='bold')\n",
        "ax.grid(True, alpha=0.3, axis='y')\n",
        "\n",
        "plt.tight_layout()\n",
        "plt.savefig('03_taxa_desperdicio_temporal.png', dpi=300, bbox_inches='tight')\n"
      ],
      "metadata": {
        "id": "-W_JUmARp4D3"
      },
      "execution_count": null,
      "outputs": []
    },
    {
      "cell_type": "markdown",
      "source": [
        "### Média Anual de produção de oléo e gás"
      ],
      "metadata": {
        "id": "R45mn2TtGivs"
      }
    },
    {
      "cell_type": "code",
      "source": [
        "\n",
        "# 6. SAZONALIDADE DA PRODUÇÃO\n",
        "\n",
        "print(\"6. Gerando gráfico de sazonalidade...\")\n",
        "\n",
        "sazonalidade = df.groupby(['Mes', 'Commodity'])['Volume_Produzido'].mean().reset_index()\n",
        "sazonalidade_pivot = sazonalidade.pivot(index='Mes', columns='Commodity', values='Volume_Produzido')\n",
        "\n",
        "meses = ['Jan', 'Fev', 'Mar', 'Abr', 'Mai', 'Jun', 'Jul', 'Ago', 'Set', 'Out', 'Nov', 'Dez']\n",
        "\n",
        "fig, ax = plt.subplots(figsize=(12, 6))\n",
        "for commodity in sazonalidade_pivot.columns:\n",
        "    ax.plot(sazonalidade_pivot.index, sazonalidade_pivot[commodity],\n",
        "            marker='o', linewidth=2, markersize=8, label=commodity)\n",
        "\n",
        "ax.set_xlabel('Mês', fontsize=12)\n",
        "ax.set_ylabel('Volume Médio Produzido', fontsize=12)\n",
        "ax.set_title('Padrão de Sazonalidade da Produção', fontsize=14, fontweight='bold')\n",
        "ax.set_xticks(range(1, 13))\n",
        "ax.set_xticklabels(meses)\n",
        "ax.legend(title='Commodity', fontsize=10)\n",
        "ax.grid(True, alpha=0.3)\n",
        "\n",
        "plt.tight_layout()\n",
        "plt.savefig('06_sazonalidade.png', dpi=300, bbox_inches='tight')"
      ],
      "metadata": {
        "id": "Vz6sThdtGs6W"
      },
      "execution_count": null,
      "outputs": []
    },
    {
      "cell_type": "code",
      "source": [
        "# ============================================================================\n",
        "# 1. DISTRIBUIÇÃO DE VOLUMES (LOG SCALE)\n",
        "# ============================================================================\n",
        "print(\"1. Gerando gráfico de distribuição de volumes...\")\n",
        "\n",
        "fig, axes = plt.subplots(1, 2, figsize=(14, 5))\n",
        "\n",
        "# Gás\n",
        "df_gas_prod = df[(df['Commodity'] == 'Gas (Mcf)') & (df['Volume_Produzido'] > 0)]\n",
        "axes[0].hist(np.log10(df_gas_prod['Volume_Produzido']), bins=50, color='skyblue', edgecolor='black', alpha=0.7)\n",
        "axes[0].set_xlabel('Log10(Volume Produzido)', fontsize=11)\n",
        "axes[0].set_ylabel('Frequência', fontsize=11)\n",
        "axes[0].set_title('Distribuição de Volume de Gás (Escala Logarítmica)', fontsize=12, fontweight='bold')\n",
        "axes[0].grid(True, alpha=0.3)\n",
        "\n",
        "# Óleo\n",
        "df_oil_prod = df[(df['Commodity'] == 'Oil (bbl)') & (df['Volume_Produzido'] > 0)]\n",
        "axes[1].hist(np.log10(df_oil_prod['Volume_Produzido']), bins=50, color='coral', edgecolor='black', alpha=0.7)\n",
        "axes[1].set_xlabel('Log10(Volume Produzido)', fontsize=11)\n",
        "axes[1].set_ylabel('Frequência', fontsize=11)\n",
        "axes[1].set_title('Distribuição de Volume de Óleo (Escala Logarítmica)', fontsize=12, fontweight='bold')\n",
        "axes[1].grid(True, alpha=0.3)\n",
        "\n",
        "plt.tight_layout()\n",
        "plt.savefig('01_distribuicao_volumes.png', dpi=300, bbox_inches='tight')\n",
        "\n"
      ],
      "metadata": {
        "id": "sGu1JF_IsKg3"
      },
      "execution_count": null,
      "outputs": []
    },
    {
      "cell_type": "code",
      "source": [
        "# Salvando em csv\n",
        "df.to_csv('petroleo_gas_tratados.csv', index=False)"
      ],
      "metadata": {
        "id": "vSrHFNYsErIz"
      },
      "execution_count": null,
      "outputs": []
    },
    {
      "cell_type": "code",
      "source": [
        "# Baixar em csv\n",
        "from google.colab import files\n",
        "files.download('petroleo_gas_tratados.csv')"
      ],
      "metadata": {
        "id": "OG-pD6wdEtX1"
      },
      "execution_count": null,
      "outputs": []
    }
  ]
}
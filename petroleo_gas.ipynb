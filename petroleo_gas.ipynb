{
  "nbformat": 4,
  "nbformat_minor": 0,
  "metadata": {
    "colab": {
      "private_outputs": true,
      "provenance": [],
      "include_colab_link": true
    },
    "kernelspec": {
      "name": "python3",
      "display_name": "Python 3"
    },
    "language_info": {
      "name": "python"
    }
  },
  "cells": [
    {
      "cell_type": "markdown",
      "metadata": {
        "id": "view-in-github",
        "colab_type": "text"
      },
      "source": [
        "<a href=\"https://colab.research.google.com/github/zairaamatori/data_driven_insights/blob/main/petroleo_gas.ipynb\" target=\"_parent\"><img src=\"https://colab.research.google.com/assets/colab-badge.svg\" alt=\"Open In Colab\"/></a>"
      ]
    },
    {
      "cell_type": "code",
      "execution_count": null,
      "metadata": {
        "id": "5a75cxYJR87O"
      },
      "outputs": [],
      "source": [
        "!pip install --upgrade google-cloud-bigquery\n"
      ]
    },
    {
      "cell_type": "code",
      "source": [
        "from google.colab import auth\n",
        "auth.authenticate_user()"
      ],
      "metadata": {
        "id": "lNuiLu_dUT09"
      },
      "execution_count": null,
      "outputs": []
    },
    {
      "cell_type": "code",
      "source": [
        "from google.cloud import bigquery\n",
        "\n",
        "import pandas as pd\n",
        "import numpy as np\n",
        "import matplotlib.pyplot as plt\n",
        "\n",
        "idProjeto = \"t1engenhariadados\"\n",
        "\n",
        "cliente = bigquery.Client(project = idProjeto)"
      ],
      "metadata": {
        "id": "NsBs43JNWHUe"
      },
      "execution_count": null,
      "outputs": []
    },
    {
      "cell_type": "code",
      "source": [
        "query = \"\"\"\n",
        "\n",
        "SELECT Commodity\n",
        "\n",
        "FROM `t1engenhariadados.projeto_final_3_3.petroleo_gas`\n",
        "\n",
        "WHERE Commodity = \"Oil\";\n",
        "\n",
        "\"\"\"\n",
        "\n",
        "resultado = cliente.query(query)\n",
        "df = resultado.to_dataframe()\n",
        "df.head()\n"
      ],
      "metadata": {
        "id": "JPy4PF9XYZ0w"
      },
      "execution_count": null,
      "outputs": []
    }
  ]
}